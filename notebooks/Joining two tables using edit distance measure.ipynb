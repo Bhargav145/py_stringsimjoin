{
 "cells": [
  {
   "cell_type": "markdown",
   "metadata": {},
   "source": [
    "This tutorial explains how to join two tables A and B using edit distance measure. First, you need to import the required packages as follows (if you have installed **py_stringsimjoin** it will automatically install the dependencies **py_stringmatching** and **pandas**):"
   ]
  },
  {
   "cell_type": "code",
   "execution_count": 16,
   "metadata": {
    "collapsed": false
   },
   "outputs": [],
   "source": [
    "# Import libraries\n",
    "import py_stringsimjoin as ssj\n",
    "import py_stringmatching as sm\n",
    "import pandas as pd\n",
    "import os, sys"
   ]
  },
  {
   "cell_type": "code",
   "execution_count": 17,
   "metadata": {
    "collapsed": false
   },
   "outputs": [
    {
     "name": "stdout",
     "output_type": "stream",
     "text": [
      "python version 2.7.10 |Anaconda 2.3.0 (64-bit)| (default, May 28 2015, 17:02:03) \n",
      "[GCC 4.4.7 20120313 (Red Hat 4.4.7-1)]\n",
      "py_stringsimjoin version: 0.1.0\n",
      "py_stringmatching version: 0.1.0\n",
      "pandas version: 0.16.2\n"
     ]
    }
   ],
   "source": [
    "print('python version ' + sys.version)\n",
    "print('py_stringsimjoin version: ' + ssj.__version__)\n",
    "print('py_stringmatching version: ' + sm.__version__)\n",
    "print('pandas version: ' + pd.__version__)"
   ]
  },
  {
   "cell_type": "markdown",
   "metadata": {},
   "source": [
    "Joining two tables using edit distance measure typically consists of 3 steps:\n",
    "1. Loading the input tables\n",
    "2. Profiling the tables\n",
    "3. Performing join"
   ]
  },
  {
   "cell_type": "markdown",
   "metadata": {},
   "source": [
    "# 1. Loading the input tables"
   ]
  },
  {
   "cell_type": "markdown",
   "metadata": {},
   "source": [
    "We begin by loading two tables. For the purpose of this tutorial, \n",
    "we use the sample dataset that comes with the package. "
   ]
  },
  {
   "cell_type": "code",
   "execution_count": 18,
   "metadata": {
    "collapsed": false
   },
   "outputs": [],
   "source": [
    "table_A_path = os.sep.join([ssj.get_install_path(), 'datasets', 'data', 'table_A.csv'])\n",
    "table_B_path = os.sep.join([ssj.get_install_path(), 'datasets', 'data', 'table_B.csv'])"
   ]
  },
  {
   "cell_type": "code",
   "execution_count": 19,
   "metadata": {
    "collapsed": false
   },
   "outputs": [
    {
     "name": "stdout",
     "output_type": "stream",
     "text": [
      "Number of records in A: 7\n",
      "Number of records in B: 8\n"
     ]
    }
   ],
   "source": [
    "# Load csv files as dataframes.\n",
    "A = pd.read_csv(table_A_path)\n",
    "B = pd.read_csv(table_B_path)\n",
    "print('Number of records in A: ' + str(len(A)))\n",
    "print('Number of records in B: ' + str(len(B)))"
   ]
  },
  {
   "cell_type": "code",
   "execution_count": 20,
   "metadata": {
    "collapsed": false
   },
   "outputs": [
    {
     "data": {
      "text/html": [
       "<div>\n",
       "<table border=\"1\" class=\"dataframe\">\n",
       "  <thead>\n",
       "    <tr style=\"text-align: right;\">\n",
       "      <th></th>\n",
       "      <th>A.id</th>\n",
       "      <th>A.name</th>\n",
       "      <th>A.birth_year</th>\n",
       "      <th>A.hourly_wage</th>\n",
       "      <th>A.address</th>\n",
       "      <th>A.zipcode</th>\n",
       "    </tr>\n",
       "  </thead>\n",
       "  <tbody>\n",
       "    <tr>\n",
       "      <th>0</th>\n",
       "      <td>a1</td>\n",
       "      <td>Kevin Smith</td>\n",
       "      <td>1989</td>\n",
       "      <td>30.0</td>\n",
       "      <td>607 From St, San Francisco</td>\n",
       "      <td>94107</td>\n",
       "    </tr>\n",
       "    <tr>\n",
       "      <th>1</th>\n",
       "      <td>a2</td>\n",
       "      <td>Michael Franklin</td>\n",
       "      <td>1988</td>\n",
       "      <td>27.5</td>\n",
       "      <td>1652 Stockton St, San Francisco</td>\n",
       "      <td>94122</td>\n",
       "    </tr>\n",
       "    <tr>\n",
       "      <th>2</th>\n",
       "      <td>a3</td>\n",
       "      <td>William Bridge</td>\n",
       "      <td>1986</td>\n",
       "      <td>32.0</td>\n",
       "      <td>3131 Webster St, San Francisco</td>\n",
       "      <td>94107</td>\n",
       "    </tr>\n",
       "    <tr>\n",
       "      <th>3</th>\n",
       "      <td>a4</td>\n",
       "      <td>Binto George</td>\n",
       "      <td>1987</td>\n",
       "      <td>32.5</td>\n",
       "      <td>423 Powell St, San Francisco</td>\n",
       "      <td>94122</td>\n",
       "    </tr>\n",
       "    <tr>\n",
       "      <th>4</th>\n",
       "      <td>a5</td>\n",
       "      <td>Alphonse Kemper</td>\n",
       "      <td>1984</td>\n",
       "      <td>35.0</td>\n",
       "      <td>1702 Post Street, San Francisco</td>\n",
       "      <td>94122</td>\n",
       "    </tr>\n",
       "    <tr>\n",
       "      <th>5</th>\n",
       "      <td>a6</td>\n",
       "      <td></td>\n",
       "      <td>1990</td>\n",
       "      <td>40.0</td>\n",
       "      <td>24th Street, San Francisco</td>\n",
       "      <td>94122</td>\n",
       "    </tr>\n",
       "    <tr>\n",
       "      <th>6</th>\n",
       "      <td>a7</td>\n",
       "      <td>NaN</td>\n",
       "      <td>1986</td>\n",
       "      <td>25.0</td>\n",
       "      <td>20th Street, San Francisco</td>\n",
       "      <td>NaN</td>\n",
       "    </tr>\n",
       "  </tbody>\n",
       "</table>\n",
       "</div>"
      ],
      "text/plain": [
       "  A.id            A.name  A.birth_year  A.hourly_wage  \\\n",
       "0   a1       Kevin Smith          1989           30.0   \n",
       "1   a2  Michael Franklin          1988           27.5   \n",
       "2   a3    William Bridge          1986           32.0   \n",
       "3   a4      Binto George          1987           32.5   \n",
       "4   a5   Alphonse Kemper          1984           35.0   \n",
       "5   a6                            1990           40.0   \n",
       "6   a7               NaN          1986           25.0   \n",
       "\n",
       "                         A.address  A.zipcode  \n",
       "0       607 From St, San Francisco      94107  \n",
       "1  1652 Stockton St, San Francisco      94122  \n",
       "2   3131 Webster St, San Francisco      94107  \n",
       "3     423 Powell St, San Francisco      94122  \n",
       "4  1702 Post Street, San Francisco      94122  \n",
       "5       24th Street, San Francisco      94122  \n",
       "6       20th Street, San Francisco        NaN  "
      ]
     },
     "execution_count": 20,
     "metadata": {},
     "output_type": "execute_result"
    }
   ],
   "source": [
    "A"
   ]
  },
  {
   "cell_type": "code",
   "execution_count": 21,
   "metadata": {
    "collapsed": false
   },
   "outputs": [
    {
     "data": {
      "text/html": [
       "<div>\n",
       "<table border=\"1\" class=\"dataframe\">\n",
       "  <thead>\n",
       "    <tr style=\"text-align: right;\">\n",
       "      <th></th>\n",
       "      <th>B.id</th>\n",
       "      <th>B.name</th>\n",
       "      <th>B.birth_year</th>\n",
       "      <th>B.hourly_wage</th>\n",
       "      <th>B.address</th>\n",
       "      <th>B.zipcode</th>\n",
       "    </tr>\n",
       "  </thead>\n",
       "  <tbody>\n",
       "    <tr>\n",
       "      <th>0</th>\n",
       "      <td>b1</td>\n",
       "      <td>Mark Levene</td>\n",
       "      <td>1987</td>\n",
       "      <td>29.5</td>\n",
       "      <td>108 Clement St, San Francisco</td>\n",
       "      <td>94107</td>\n",
       "    </tr>\n",
       "    <tr>\n",
       "      <th>1</th>\n",
       "      <td>b2</td>\n",
       "      <td>Bill Bridge</td>\n",
       "      <td>1986</td>\n",
       "      <td>32.0</td>\n",
       "      <td>3131 Webster St, San Francisco</td>\n",
       "      <td>94107</td>\n",
       "    </tr>\n",
       "    <tr>\n",
       "      <th>2</th>\n",
       "      <td>b3</td>\n",
       "      <td>Mike Franklin</td>\n",
       "      <td>1988</td>\n",
       "      <td>27.5</td>\n",
       "      <td>1652 Stockton St, San Francisco</td>\n",
       "      <td>94122</td>\n",
       "    </tr>\n",
       "    <tr>\n",
       "      <th>3</th>\n",
       "      <td>b4</td>\n",
       "      <td>Joseph Kuan</td>\n",
       "      <td>1982</td>\n",
       "      <td>26.0</td>\n",
       "      <td>108 South Park, San Francisco</td>\n",
       "      <td>94122</td>\n",
       "    </tr>\n",
       "    <tr>\n",
       "      <th>4</th>\n",
       "      <td>b5</td>\n",
       "      <td>Alfons Kemper</td>\n",
       "      <td>1984</td>\n",
       "      <td>35.0</td>\n",
       "      <td>170 Post St, Apt 4,  San Francisco</td>\n",
       "      <td>94122</td>\n",
       "    </tr>\n",
       "    <tr>\n",
       "      <th>5</th>\n",
       "      <td>b6</td>\n",
       "      <td>Michael Brodie</td>\n",
       "      <td>1987</td>\n",
       "      <td>32.5</td>\n",
       "      <td>133 Clement Street, San Francisco</td>\n",
       "      <td>94107</td>\n",
       "    </tr>\n",
       "    <tr>\n",
       "      <th>6</th>\n",
       "      <td>b7</td>\n",
       "      <td></td>\n",
       "      <td>1990</td>\n",
       "      <td>40.0</td>\n",
       "      <td>24th Street, San Francisco</td>\n",
       "      <td>94122</td>\n",
       "    </tr>\n",
       "    <tr>\n",
       "      <th>7</th>\n",
       "      <td>b8</td>\n",
       "      <td>NaN</td>\n",
       "      <td>1986</td>\n",
       "      <td>25.0</td>\n",
       "      <td>20th Street, San Francisco</td>\n",
       "      <td>NaN</td>\n",
       "    </tr>\n",
       "  </tbody>\n",
       "</table>\n",
       "</div>"
      ],
      "text/plain": [
       "  B.id          B.name  B.birth_year  B.hourly_wage  \\\n",
       "0   b1     Mark Levene          1987           29.5   \n",
       "1   b2     Bill Bridge          1986           32.0   \n",
       "2   b3   Mike Franklin          1988           27.5   \n",
       "3   b4     Joseph Kuan          1982           26.0   \n",
       "4   b5   Alfons Kemper          1984           35.0   \n",
       "5   b6  Michael Brodie          1987           32.5   \n",
       "6   b7                          1990           40.0   \n",
       "7   b8             NaN          1986           25.0   \n",
       "\n",
       "                            B.address  B.zipcode  \n",
       "0       108 Clement St, San Francisco      94107  \n",
       "1      3131 Webster St, San Francisco      94107  \n",
       "2     1652 Stockton St, San Francisco      94122  \n",
       "3       108 South Park, San Francisco      94122  \n",
       "4  170 Post St, Apt 4,  San Francisco      94122  \n",
       "5   133 Clement Street, San Francisco      94107  \n",
       "6          24th Street, San Francisco      94122  \n",
       "7          20th Street, San Francisco        NaN  "
      ]
     },
     "execution_count": 21,
     "metadata": {},
     "output_type": "execute_result"
    }
   ],
   "source": [
    "B"
   ]
  },
  {
   "cell_type": "markdown",
   "metadata": {},
   "source": [
    "# 2. Profiling the tables"
   ]
  },
  {
   "cell_type": "markdown",
   "metadata": {},
   "source": [
    "Before performing the join we may want to know about the characteristics \n",
    "of the attributes such as number of missing values etc.,\n",
    "which can affect the join output. Using the profiling command, we can inspect\n",
    "the effect of missing values for each attribute. Further, we can identify\n",
    "the attributes which contain unique values."
   ]
  },
  {
   "cell_type": "code",
   "execution_count": 22,
   "metadata": {
    "collapsed": false
   },
   "outputs": [
    {
     "data": {
      "text/html": [
       "<div>\n",
       "<table border=\"1\" class=\"dataframe\">\n",
       "  <thead>\n",
       "    <tr style=\"text-align: right;\">\n",
       "      <th></th>\n",
       "      <th>Unique values</th>\n",
       "      <th>Missing values</th>\n",
       "      <th>Comments</th>\n",
       "    </tr>\n",
       "    <tr>\n",
       "      <th>Attribute</th>\n",
       "      <th></th>\n",
       "      <th></th>\n",
       "      <th></th>\n",
       "    </tr>\n",
       "  </thead>\n",
       "  <tbody>\n",
       "    <tr>\n",
       "      <th>A.id</th>\n",
       "      <td>7 (100.0%)</td>\n",
       "      <td>0 (0.0%)</td>\n",
       "      <td>This attribute can be used as a key attribute.</td>\n",
       "    </tr>\n",
       "    <tr>\n",
       "      <th>A.name</th>\n",
       "      <td>7 (100.0%)</td>\n",
       "      <td>1 (14.29%)</td>\n",
       "      <td>Joining on this attribute will ignore 1 (14.29%) rows.</td>\n",
       "    </tr>\n",
       "    <tr>\n",
       "      <th>A.birth_year</th>\n",
       "      <td>6 (85.71%)</td>\n",
       "      <td>0 (0.0%)</td>\n",
       "      <td></td>\n",
       "    </tr>\n",
       "    <tr>\n",
       "      <th>A.hourly_wage</th>\n",
       "      <td>7 (100.0%)</td>\n",
       "      <td>0 (0.0%)</td>\n",
       "      <td>This attribute can be used as a key attribute.</td>\n",
       "    </tr>\n",
       "    <tr>\n",
       "      <th>A.address</th>\n",
       "      <td>7 (100.0%)</td>\n",
       "      <td>0 (0.0%)</td>\n",
       "      <td>This attribute can be used as a key attribute.</td>\n",
       "    </tr>\n",
       "    <tr>\n",
       "      <th>A.zipcode</th>\n",
       "      <td>3 (42.86%)</td>\n",
       "      <td>1 (14.29%)</td>\n",
       "      <td>Joining on this attribute will ignore 1 (14.29%) rows.</td>\n",
       "    </tr>\n",
       "  </tbody>\n",
       "</table>\n",
       "</div>"
      ],
      "text/plain": [
       "              Unique values Missing values  \\\n",
       "Attribute                                    \n",
       "A.id             7 (100.0%)       0 (0.0%)   \n",
       "A.name           7 (100.0%)     1 (14.29%)   \n",
       "A.birth_year     6 (85.71%)       0 (0.0%)   \n",
       "A.hourly_wage    7 (100.0%)       0 (0.0%)   \n",
       "A.address        7 (100.0%)       0 (0.0%)   \n",
       "A.zipcode        3 (42.86%)     1 (14.29%)   \n",
       "\n",
       "                                                             Comments  \n",
       "Attribute                                                              \n",
       "A.id                   This attribute can be used as a key attribute.  \n",
       "A.name         Joining on this attribute will ignore 1 (14.29%) rows.  \n",
       "A.birth_year                                                           \n",
       "A.hourly_wage          This attribute can be used as a key attribute.  \n",
       "A.address              This attribute can be used as a key attribute.  \n",
       "A.zipcode      Joining on this attribute will ignore 1 (14.29%) rows.  "
      ]
     },
     "execution_count": 22,
     "metadata": {},
     "output_type": "execute_result"
    }
   ],
   "source": [
    "# profile attributes in table A\n",
    "ssj.profile_table_for_join(A)"
   ]
  },
  {
   "cell_type": "code",
   "execution_count": 23,
   "metadata": {
    "collapsed": false
   },
   "outputs": [
    {
     "data": {
      "text/html": [
       "<div>\n",
       "<table border=\"1\" class=\"dataframe\">\n",
       "  <thead>\n",
       "    <tr style=\"text-align: right;\">\n",
       "      <th></th>\n",
       "      <th>Unique values</th>\n",
       "      <th>Missing values</th>\n",
       "      <th>Comments</th>\n",
       "    </tr>\n",
       "    <tr>\n",
       "      <th>Attribute</th>\n",
       "      <th></th>\n",
       "      <th></th>\n",
       "      <th></th>\n",
       "    </tr>\n",
       "  </thead>\n",
       "  <tbody>\n",
       "    <tr>\n",
       "      <th>B.id</th>\n",
       "      <td>8 (100.0%)</td>\n",
       "      <td>0 (0.0%)</td>\n",
       "      <td>This attribute can be used as a key attribute.</td>\n",
       "    </tr>\n",
       "    <tr>\n",
       "      <th>B.name</th>\n",
       "      <td>8 (100.0%)</td>\n",
       "      <td>1 (12.5%)</td>\n",
       "      <td>Joining on this attribute will ignore 1 (12.5%) rows.</td>\n",
       "    </tr>\n",
       "    <tr>\n",
       "      <th>B.birth_year</th>\n",
       "      <td>6 (75.0%)</td>\n",
       "      <td>0 (0.0%)</td>\n",
       "      <td></td>\n",
       "    </tr>\n",
       "    <tr>\n",
       "      <th>B.hourly_wage</th>\n",
       "      <td>8 (100.0%)</td>\n",
       "      <td>0 (0.0%)</td>\n",
       "      <td>This attribute can be used as a key attribute.</td>\n",
       "    </tr>\n",
       "    <tr>\n",
       "      <th>B.address</th>\n",
       "      <td>8 (100.0%)</td>\n",
       "      <td>0 (0.0%)</td>\n",
       "      <td>This attribute can be used as a key attribute.</td>\n",
       "    </tr>\n",
       "    <tr>\n",
       "      <th>B.zipcode</th>\n",
       "      <td>3 (37.5%)</td>\n",
       "      <td>1 (12.5%)</td>\n",
       "      <td>Joining on this attribute will ignore 1 (12.5%) rows.</td>\n",
       "    </tr>\n",
       "  </tbody>\n",
       "</table>\n",
       "</div>"
      ],
      "text/plain": [
       "              Unique values Missing values  \\\n",
       "Attribute                                    \n",
       "B.id             8 (100.0%)       0 (0.0%)   \n",
       "B.name           8 (100.0%)      1 (12.5%)   \n",
       "B.birth_year      6 (75.0%)       0 (0.0%)   \n",
       "B.hourly_wage    8 (100.0%)       0 (0.0%)   \n",
       "B.address        8 (100.0%)       0 (0.0%)   \n",
       "B.zipcode         3 (37.5%)      1 (12.5%)   \n",
       "\n",
       "                                                            Comments  \n",
       "Attribute                                                             \n",
       "B.id                  This attribute can be used as a key attribute.  \n",
       "B.name         Joining on this attribute will ignore 1 (12.5%) rows.  \n",
       "B.birth_year                                                          \n",
       "B.hourly_wage         This attribute can be used as a key attribute.  \n",
       "B.address             This attribute can be used as a key attribute.  \n",
       "B.zipcode      Joining on this attribute will ignore 1 (12.5%) rows.  "
      ]
     },
     "execution_count": 23,
     "metadata": {},
     "output_type": "execute_result"
    }
   ],
   "source": [
    "# profile attributes in table B\n",
    "ssj.profile_table_for_join(B)"
   ]
  },
  {
   "cell_type": "markdown",
   "metadata": {},
   "source": [
    "For the purpose of this tutorial, we will now join tables A and B on \n",
    "'name' attribute using Jaccard measure. Next, we need to decide on what \n",
    "threshold to use for the join. For this tutorial, we will use a threshold of 0.3. \n",
    "Specifically, the join will now find tuple pairs from A and B such that \n",
    "the Jaccard score over the 'name' attributes is atleast 0.3."
   ]
  },
  {
   "cell_type": "markdown",
   "metadata": {},
   "source": [
    "# 3. Performing join"
   ]
  },
  {
   "cell_type": "markdown",
   "metadata": {},
   "source": [
    "The next step is to perform the join using the following command:"
   ]
  },
  {
   "cell_type": "code",
   "execution_count": 24,
   "metadata": {
    "collapsed": false
   },
   "outputs": [
    {
     "name": "stderr",
     "output_type": "stream",
     "text": [
      "0%    100%\n",
      "[########] | ETA[sec]: 0.000 \n",
      "Total time elapsed: 0.006 sec\n"
     ]
    }
   ],
   "source": [
    "# find all pairs from A and B such that the edit distance\n",
    "# on 'name' is at least 0.3.\n",
    "# l_out_attrs and r_out_attrs denotes the attributes from the \n",
    "# left (A) and right (B) table that needs to be included in the output.\n",
    "output_pairs = ssj.edit_distance_join(A, B, 'A.id', 'B.id', 'A.zipcode', 'B.zipcode', 1, \n",
    "                                      l_out_attrs=['A.zipcode'], r_out_attrs=['B.zipcode'])"
   ]
  },
  {
   "cell_type": "code",
   "execution_count": 25,
   "metadata": {
    "collapsed": false
   },
   "outputs": [
    {
     "data": {
      "text/plain": [
       "23"
      ]
     },
     "execution_count": 25,
     "metadata": {},
     "output_type": "execute_result"
    }
   ],
   "source": [
    "len(output_pairs)"
   ]
  },
  {
   "cell_type": "code",
   "execution_count": 26,
   "metadata": {
    "collapsed": false
   },
   "outputs": [
    {
     "data": {
      "text/html": [
       "<div>\n",
       "<table border=\"1\" class=\"dataframe\">\n",
       "  <thead>\n",
       "    <tr style=\"text-align: right;\">\n",
       "      <th></th>\n",
       "      <th>_id</th>\n",
       "      <th>l_A.id</th>\n",
       "      <th>r_B.id</th>\n",
       "      <th>l_A.zipcode</th>\n",
       "      <th>r_B.zipcode</th>\n",
       "      <th>_sim_score</th>\n",
       "    </tr>\n",
       "  </thead>\n",
       "  <tbody>\n",
       "    <tr>\n",
       "      <th>0</th>\n",
       "      <td>0</td>\n",
       "      <td>a1</td>\n",
       "      <td>b1</td>\n",
       "      <td>94107.0</td>\n",
       "      <td>94107.0</td>\n",
       "      <td>0</td>\n",
       "    </tr>\n",
       "    <tr>\n",
       "      <th>1</th>\n",
       "      <td>1</td>\n",
       "      <td>a3</td>\n",
       "      <td>b1</td>\n",
       "      <td>94107.0</td>\n",
       "      <td>94107.0</td>\n",
       "      <td>0</td>\n",
       "    </tr>\n",
       "    <tr>\n",
       "      <th>2</th>\n",
       "      <td>2</td>\n",
       "      <td>a1</td>\n",
       "      <td>b2</td>\n",
       "      <td>94107.0</td>\n",
       "      <td>94107.0</td>\n",
       "      <td>0</td>\n",
       "    </tr>\n",
       "    <tr>\n",
       "      <th>3</th>\n",
       "      <td>3</td>\n",
       "      <td>a3</td>\n",
       "      <td>b2</td>\n",
       "      <td>94107.0</td>\n",
       "      <td>94107.0</td>\n",
       "      <td>0</td>\n",
       "    </tr>\n",
       "    <tr>\n",
       "      <th>4</th>\n",
       "      <td>4</td>\n",
       "      <td>a2</td>\n",
       "      <td>b3</td>\n",
       "      <td>94122.0</td>\n",
       "      <td>94122.0</td>\n",
       "      <td>0</td>\n",
       "    </tr>\n",
       "    <tr>\n",
       "      <th>5</th>\n",
       "      <td>5</td>\n",
       "      <td>a4</td>\n",
       "      <td>b3</td>\n",
       "      <td>94122.0</td>\n",
       "      <td>94122.0</td>\n",
       "      <td>0</td>\n",
       "    </tr>\n",
       "    <tr>\n",
       "      <th>6</th>\n",
       "      <td>6</td>\n",
       "      <td>a5</td>\n",
       "      <td>b3</td>\n",
       "      <td>94122.0</td>\n",
       "      <td>94122.0</td>\n",
       "      <td>0</td>\n",
       "    </tr>\n",
       "    <tr>\n",
       "      <th>7</th>\n",
       "      <td>7</td>\n",
       "      <td>a6</td>\n",
       "      <td>b3</td>\n",
       "      <td>94122.0</td>\n",
       "      <td>94122.0</td>\n",
       "      <td>0</td>\n",
       "    </tr>\n",
       "    <tr>\n",
       "      <th>8</th>\n",
       "      <td>8</td>\n",
       "      <td>a2</td>\n",
       "      <td>b4</td>\n",
       "      <td>94122.0</td>\n",
       "      <td>94122.0</td>\n",
       "      <td>0</td>\n",
       "    </tr>\n",
       "    <tr>\n",
       "      <th>9</th>\n",
       "      <td>9</td>\n",
       "      <td>a4</td>\n",
       "      <td>b4</td>\n",
       "      <td>94122.0</td>\n",
       "      <td>94122.0</td>\n",
       "      <td>0</td>\n",
       "    </tr>\n",
       "    <tr>\n",
       "      <th>10</th>\n",
       "      <td>10</td>\n",
       "      <td>a5</td>\n",
       "      <td>b4</td>\n",
       "      <td>94122.0</td>\n",
       "      <td>94122.0</td>\n",
       "      <td>0</td>\n",
       "    </tr>\n",
       "    <tr>\n",
       "      <th>11</th>\n",
       "      <td>11</td>\n",
       "      <td>a6</td>\n",
       "      <td>b4</td>\n",
       "      <td>94122.0</td>\n",
       "      <td>94122.0</td>\n",
       "      <td>0</td>\n",
       "    </tr>\n",
       "    <tr>\n",
       "      <th>12</th>\n",
       "      <td>12</td>\n",
       "      <td>a2</td>\n",
       "      <td>b5</td>\n",
       "      <td>94122.0</td>\n",
       "      <td>94122.0</td>\n",
       "      <td>0</td>\n",
       "    </tr>\n",
       "    <tr>\n",
       "      <th>13</th>\n",
       "      <td>13</td>\n",
       "      <td>a4</td>\n",
       "      <td>b5</td>\n",
       "      <td>94122.0</td>\n",
       "      <td>94122.0</td>\n",
       "      <td>0</td>\n",
       "    </tr>\n",
       "    <tr>\n",
       "      <th>14</th>\n",
       "      <td>14</td>\n",
       "      <td>a5</td>\n",
       "      <td>b5</td>\n",
       "      <td>94122.0</td>\n",
       "      <td>94122.0</td>\n",
       "      <td>0</td>\n",
       "    </tr>\n",
       "    <tr>\n",
       "      <th>15</th>\n",
       "      <td>15</td>\n",
       "      <td>a6</td>\n",
       "      <td>b5</td>\n",
       "      <td>94122.0</td>\n",
       "      <td>94122.0</td>\n",
       "      <td>0</td>\n",
       "    </tr>\n",
       "    <tr>\n",
       "      <th>16</th>\n",
       "      <td>16</td>\n",
       "      <td>a1</td>\n",
       "      <td>b6</td>\n",
       "      <td>94107.0</td>\n",
       "      <td>94107.0</td>\n",
       "      <td>0</td>\n",
       "    </tr>\n",
       "    <tr>\n",
       "      <th>17</th>\n",
       "      <td>17</td>\n",
       "      <td>a3</td>\n",
       "      <td>b6</td>\n",
       "      <td>94107.0</td>\n",
       "      <td>94107.0</td>\n",
       "      <td>0</td>\n",
       "    </tr>\n",
       "    <tr>\n",
       "      <th>18</th>\n",
       "      <td>18</td>\n",
       "      <td>a2</td>\n",
       "      <td>b7</td>\n",
       "      <td>94122.0</td>\n",
       "      <td>94122.0</td>\n",
       "      <td>0</td>\n",
       "    </tr>\n",
       "    <tr>\n",
       "      <th>19</th>\n",
       "      <td>19</td>\n",
       "      <td>a4</td>\n",
       "      <td>b7</td>\n",
       "      <td>94122.0</td>\n",
       "      <td>94122.0</td>\n",
       "      <td>0</td>\n",
       "    </tr>\n",
       "    <tr>\n",
       "      <th>20</th>\n",
       "      <td>20</td>\n",
       "      <td>a5</td>\n",
       "      <td>b7</td>\n",
       "      <td>94122.0</td>\n",
       "      <td>94122.0</td>\n",
       "      <td>0</td>\n",
       "    </tr>\n",
       "    <tr>\n",
       "      <th>21</th>\n",
       "      <td>21</td>\n",
       "      <td>a6</td>\n",
       "      <td>b7</td>\n",
       "      <td>94122.0</td>\n",
       "      <td>94122.0</td>\n",
       "      <td>0</td>\n",
       "    </tr>\n",
       "    <tr>\n",
       "      <th>22</th>\n",
       "      <td>22</td>\n",
       "      <td>a7</td>\n",
       "      <td>b8</td>\n",
       "      <td>nan</td>\n",
       "      <td>nan</td>\n",
       "      <td>0</td>\n",
       "    </tr>\n",
       "  </tbody>\n",
       "</table>\n",
       "</div>"
      ],
      "text/plain": [
       "    _id l_A.id r_B.id l_A.zipcode r_B.zipcode  _sim_score\n",
       "0     0     a1     b1     94107.0     94107.0           0\n",
       "1     1     a3     b1     94107.0     94107.0           0\n",
       "2     2     a1     b2     94107.0     94107.0           0\n",
       "3     3     a3     b2     94107.0     94107.0           0\n",
       "4     4     a2     b3     94122.0     94122.0           0\n",
       "5     5     a4     b3     94122.0     94122.0           0\n",
       "6     6     a5     b3     94122.0     94122.0           0\n",
       "7     7     a6     b3     94122.0     94122.0           0\n",
       "8     8     a2     b4     94122.0     94122.0           0\n",
       "9     9     a4     b4     94122.0     94122.0           0\n",
       "10   10     a5     b4     94122.0     94122.0           0\n",
       "11   11     a6     b4     94122.0     94122.0           0\n",
       "12   12     a2     b5     94122.0     94122.0           0\n",
       "13   13     a4     b5     94122.0     94122.0           0\n",
       "14   14     a5     b5     94122.0     94122.0           0\n",
       "15   15     a6     b5     94122.0     94122.0           0\n",
       "16   16     a1     b6     94107.0     94107.0           0\n",
       "17   17     a3     b6     94107.0     94107.0           0\n",
       "18   18     a2     b7     94122.0     94122.0           0\n",
       "19   19     a4     b7     94122.0     94122.0           0\n",
       "20   20     a5     b7     94122.0     94122.0           0\n",
       "21   21     a6     b7     94122.0     94122.0           0\n",
       "22   22     a7     b8         nan         nan           0"
      ]
     },
     "execution_count": 26,
     "metadata": {},
     "output_type": "execute_result"
    }
   ],
   "source": [
    "# examine the output pairs\n",
    "output_pairs"
   ]
  },
  {
   "cell_type": "markdown",
   "metadata": {
    "collapsed": false
   },
   "source": [
    "# Handling missing values"
   ]
  },
  {
   "cell_type": "markdown",
   "metadata": {
    "collapsed": true
   },
   "source": [
    "By default, pairs with missing values are not included\n",
    "in the output. This is because a string with a missing value\n",
    "can match with all strings in the other table and hence the\n",
    "number of output pairs can become huge. If you want to include\n",
    "pairs with missing value in the output, you need to set the\n",
    "**allow_missing** flag to True, as shown below:"
   ]
  },
  {
   "cell_type": "code",
   "execution_count": 27,
   "metadata": {
    "collapsed": false
   },
   "outputs": [
    {
     "name": "stderr",
     "output_type": "stream",
     "text": [
      "0%    100%\n",
      "[########] | ETA[sec]: 0.000 \n",
      "Total time elapsed: 0.005 sec\n",
      "0%  100%\n",
      "[]"
     ]
    },
    {
     "name": "stdout",
     "output_type": "stream",
     "text": [
      "Finding pairs with missing value...\n"
     ]
    }
   ],
   "source": [
    "output_pairs = ssj.edit_distance_join(A, B, 'A.id', 'B.id', 'A.zipcode', 'B.zipcode', 1, allow_missing=True, \n",
    "                                      l_out_attrs=['A.zipcode'], r_out_attrs=['B.zipcode'])"
   ]
  },
  {
   "cell_type": "code",
   "execution_count": 28,
   "metadata": {
    "collapsed": false
   },
   "outputs": [
    {
     "data": {
      "text/html": [
       "<div>\n",
       "<table border=\"1\" class=\"dataframe\">\n",
       "  <thead>\n",
       "    <tr style=\"text-align: right;\">\n",
       "      <th></th>\n",
       "      <th>_id</th>\n",
       "      <th>l_A.id</th>\n",
       "      <th>r_B.id</th>\n",
       "      <th>l_A.zipcode</th>\n",
       "      <th>r_B.zipcode</th>\n",
       "      <th>_sim_score</th>\n",
       "    </tr>\n",
       "  </thead>\n",
       "  <tbody>\n",
       "    <tr>\n",
       "      <th>0</th>\n",
       "      <td>0</td>\n",
       "      <td>a1</td>\n",
       "      <td>b1</td>\n",
       "      <td>94107.0</td>\n",
       "      <td>94107.0</td>\n",
       "      <td>0</td>\n",
       "    </tr>\n",
       "    <tr>\n",
       "      <th>1</th>\n",
       "      <td>1</td>\n",
       "      <td>a3</td>\n",
       "      <td>b1</td>\n",
       "      <td>94107.0</td>\n",
       "      <td>94107.0</td>\n",
       "      <td>0</td>\n",
       "    </tr>\n",
       "    <tr>\n",
       "      <th>2</th>\n",
       "      <td>2</td>\n",
       "      <td>a1</td>\n",
       "      <td>b2</td>\n",
       "      <td>94107.0</td>\n",
       "      <td>94107.0</td>\n",
       "      <td>0</td>\n",
       "    </tr>\n",
       "    <tr>\n",
       "      <th>3</th>\n",
       "      <td>3</td>\n",
       "      <td>a3</td>\n",
       "      <td>b2</td>\n",
       "      <td>94107.0</td>\n",
       "      <td>94107.0</td>\n",
       "      <td>0</td>\n",
       "    </tr>\n",
       "    <tr>\n",
       "      <th>4</th>\n",
       "      <td>4</td>\n",
       "      <td>a2</td>\n",
       "      <td>b3</td>\n",
       "      <td>94122.0</td>\n",
       "      <td>94122.0</td>\n",
       "      <td>0</td>\n",
       "    </tr>\n",
       "    <tr>\n",
       "      <th>5</th>\n",
       "      <td>5</td>\n",
       "      <td>a4</td>\n",
       "      <td>b3</td>\n",
       "      <td>94122.0</td>\n",
       "      <td>94122.0</td>\n",
       "      <td>0</td>\n",
       "    </tr>\n",
       "    <tr>\n",
       "      <th>6</th>\n",
       "      <td>6</td>\n",
       "      <td>a5</td>\n",
       "      <td>b3</td>\n",
       "      <td>94122.0</td>\n",
       "      <td>94122.0</td>\n",
       "      <td>0</td>\n",
       "    </tr>\n",
       "    <tr>\n",
       "      <th>7</th>\n",
       "      <td>7</td>\n",
       "      <td>a6</td>\n",
       "      <td>b3</td>\n",
       "      <td>94122.0</td>\n",
       "      <td>94122.0</td>\n",
       "      <td>0</td>\n",
       "    </tr>\n",
       "    <tr>\n",
       "      <th>8</th>\n",
       "      <td>8</td>\n",
       "      <td>a2</td>\n",
       "      <td>b4</td>\n",
       "      <td>94122.0</td>\n",
       "      <td>94122.0</td>\n",
       "      <td>0</td>\n",
       "    </tr>\n",
       "    <tr>\n",
       "      <th>9</th>\n",
       "      <td>9</td>\n",
       "      <td>a4</td>\n",
       "      <td>b4</td>\n",
       "      <td>94122.0</td>\n",
       "      <td>94122.0</td>\n",
       "      <td>0</td>\n",
       "    </tr>\n",
       "    <tr>\n",
       "      <th>10</th>\n",
       "      <td>10</td>\n",
       "      <td>a5</td>\n",
       "      <td>b4</td>\n",
       "      <td>94122.0</td>\n",
       "      <td>94122.0</td>\n",
       "      <td>0</td>\n",
       "    </tr>\n",
       "    <tr>\n",
       "      <th>11</th>\n",
       "      <td>11</td>\n",
       "      <td>a6</td>\n",
       "      <td>b4</td>\n",
       "      <td>94122.0</td>\n",
       "      <td>94122.0</td>\n",
       "      <td>0</td>\n",
       "    </tr>\n",
       "    <tr>\n",
       "      <th>12</th>\n",
       "      <td>12</td>\n",
       "      <td>a2</td>\n",
       "      <td>b5</td>\n",
       "      <td>94122.0</td>\n",
       "      <td>94122.0</td>\n",
       "      <td>0</td>\n",
       "    </tr>\n",
       "    <tr>\n",
       "      <th>13</th>\n",
       "      <td>13</td>\n",
       "      <td>a4</td>\n",
       "      <td>b5</td>\n",
       "      <td>94122.0</td>\n",
       "      <td>94122.0</td>\n",
       "      <td>0</td>\n",
       "    </tr>\n",
       "    <tr>\n",
       "      <th>14</th>\n",
       "      <td>14</td>\n",
       "      <td>a5</td>\n",
       "      <td>b5</td>\n",
       "      <td>94122.0</td>\n",
       "      <td>94122.0</td>\n",
       "      <td>0</td>\n",
       "    </tr>\n",
       "    <tr>\n",
       "      <th>15</th>\n",
       "      <td>15</td>\n",
       "      <td>a6</td>\n",
       "      <td>b5</td>\n",
       "      <td>94122.0</td>\n",
       "      <td>94122.0</td>\n",
       "      <td>0</td>\n",
       "    </tr>\n",
       "    <tr>\n",
       "      <th>16</th>\n",
       "      <td>16</td>\n",
       "      <td>a1</td>\n",
       "      <td>b6</td>\n",
       "      <td>94107.0</td>\n",
       "      <td>94107.0</td>\n",
       "      <td>0</td>\n",
       "    </tr>\n",
       "    <tr>\n",
       "      <th>17</th>\n",
       "      <td>17</td>\n",
       "      <td>a3</td>\n",
       "      <td>b6</td>\n",
       "      <td>94107.0</td>\n",
       "      <td>94107.0</td>\n",
       "      <td>0</td>\n",
       "    </tr>\n",
       "    <tr>\n",
       "      <th>18</th>\n",
       "      <td>18</td>\n",
       "      <td>a2</td>\n",
       "      <td>b7</td>\n",
       "      <td>94122.0</td>\n",
       "      <td>94122.0</td>\n",
       "      <td>0</td>\n",
       "    </tr>\n",
       "    <tr>\n",
       "      <th>19</th>\n",
       "      <td>19</td>\n",
       "      <td>a4</td>\n",
       "      <td>b7</td>\n",
       "      <td>94122.0</td>\n",
       "      <td>94122.0</td>\n",
       "      <td>0</td>\n",
       "    </tr>\n",
       "    <tr>\n",
       "      <th>20</th>\n",
       "      <td>20</td>\n",
       "      <td>a5</td>\n",
       "      <td>b7</td>\n",
       "      <td>94122.0</td>\n",
       "      <td>94122.0</td>\n",
       "      <td>0</td>\n",
       "    </tr>\n",
       "    <tr>\n",
       "      <th>21</th>\n",
       "      <td>21</td>\n",
       "      <td>a6</td>\n",
       "      <td>b7</td>\n",
       "      <td>94122.0</td>\n",
       "      <td>94122.0</td>\n",
       "      <td>0</td>\n",
       "    </tr>\n",
       "    <tr>\n",
       "      <th>22</th>\n",
       "      <td>22</td>\n",
       "      <td>a7</td>\n",
       "      <td>b8</td>\n",
       "      <td>nan</td>\n",
       "      <td>nan</td>\n",
       "      <td>0</td>\n",
       "    </tr>\n",
       "  </tbody>\n",
       "</table>\n",
       "</div>"
      ],
      "text/plain": [
       "    _id l_A.id r_B.id l_A.zipcode r_B.zipcode  _sim_score\n",
       "0     0     a1     b1     94107.0     94107.0           0\n",
       "1     1     a3     b1     94107.0     94107.0           0\n",
       "2     2     a1     b2     94107.0     94107.0           0\n",
       "3     3     a3     b2     94107.0     94107.0           0\n",
       "4     4     a2     b3     94122.0     94122.0           0\n",
       "5     5     a4     b3     94122.0     94122.0           0\n",
       "6     6     a5     b3     94122.0     94122.0           0\n",
       "7     7     a6     b3     94122.0     94122.0           0\n",
       "8     8     a2     b4     94122.0     94122.0           0\n",
       "9     9     a4     b4     94122.0     94122.0           0\n",
       "10   10     a5     b4     94122.0     94122.0           0\n",
       "11   11     a6     b4     94122.0     94122.0           0\n",
       "12   12     a2     b5     94122.0     94122.0           0\n",
       "13   13     a4     b5     94122.0     94122.0           0\n",
       "14   14     a5     b5     94122.0     94122.0           0\n",
       "15   15     a6     b5     94122.0     94122.0           0\n",
       "16   16     a1     b6     94107.0     94107.0           0\n",
       "17   17     a3     b6     94107.0     94107.0           0\n",
       "18   18     a2     b7     94122.0     94122.0           0\n",
       "19   19     a4     b7     94122.0     94122.0           0\n",
       "20   20     a5     b7     94122.0     94122.0           0\n",
       "21   21     a6     b7     94122.0     94122.0           0\n",
       "22   22     a7     b8         nan         nan           0"
      ]
     },
     "execution_count": 28,
     "metadata": {},
     "output_type": "execute_result"
    }
   ],
   "source": [
    "output_pairs"
   ]
  },
  {
   "cell_type": "markdown",
   "metadata": {},
   "source": [
    "# Enabling parallel processing"
   ]
  },
  {
   "cell_type": "markdown",
   "metadata": {},
   "source": [
    "If you have multiple cores which you want to exploit for performing the join, you need to use the **n_jobs** option. If n_jobs is -1, all CPUs are used. If 1 is given, no parallel computing code is used at all, which is useful for debugging and is the default option. For n_jobs below -1, (n_cpus + 1 + n_jobs) are used. Thus for n_jobs = -2, all CPUs but one are used. The below command exploits all the cores available to perform the join:"
   ]
  },
  {
   "cell_type": "code",
   "execution_count": 19,
   "metadata": {
    "collapsed": false
   },
   "outputs": [
    {
     "name": "stderr",
     "output_type": "stream",
     "text": [
      "0%  100%\n",
      "[ ]"
     ]
    }
   ],
   "source": [
    "output_pairs = ssj.jaccard_join(A, B, 'A.id', 'B.id', 'A.name', 'B.name', ws, 0.3, \n",
    "                                l_out_attrs=['A.name'], r_out_attrs=['B.name'], n_jobs=-1)"
   ]
  },
  {
   "cell_type": "code",
   "execution_count": 20,
   "metadata": {
    "collapsed": false
   },
   "outputs": [
    {
     "data": {
      "text/plain": [
       "5"
      ]
     },
     "execution_count": 20,
     "metadata": {},
     "output_type": "execute_result"
    }
   ],
   "source": [
    "len(output_pairs)"
   ]
  },
  {
   "cell_type": "markdown",
   "metadata": {},
   "source": [
    "# Additional options"
   ]
  },
  {
   "cell_type": "markdown",
   "metadata": {},
   "source": [
    "You can find all the options available for the join function using the help command as shown below:"
   ]
  },
  {
   "cell_type": "code",
   "execution_count": 15,
   "metadata": {
    "collapsed": false
   },
   "outputs": [
    {
     "name": "stdout",
     "output_type": "stream",
     "text": [
      "Help on function edit_distance_join in module py_stringsimjoin.join.edit_distance_join:\n",
      "\n",
      "edit_distance_join(ltable, rtable, l_key_attr, r_key_attr, l_join_attr, r_join_attr, threshold, comp_op='<=', allow_missing=False, l_out_attrs=None, r_out_attrs=None, l_out_prefix='l_', r_out_prefix='r_', out_sim_score=True, n_jobs=1, show_progress=True, tokenizer=<py_stringmatching.tokenizer.qgram_tokenizer.QgramTokenizer object>)\n",
      "    Join two tables using edit distance measure.\n",
      "    \n",
      "    Finds tuple pairs from left table and right table such that the edit \n",
      "    distance between the join attributes satisfies the condition on input \n",
      "    threshold. That is, if the comparison operator is '<=', finds tuples pairs \n",
      "    whose edit distance on the join attributes is less than or equal to the \n",
      "    input threshold.\n",
      "    \n",
      "    Note:\n",
      "        Currently, this method only computes an approximate join result. This is\n",
      "        because, to perform the join we transform a edit distance measure \n",
      "        between strings into an overlap measure between qgrams of the strings. \n",
      "        Hence, we need atleast one qgram to be in common between two input \n",
      "        strings, to appear in the join output. For smaller strings, where all \n",
      "        qgrams of the strings differ, we cannot process them.\n",
      "        \n",
      "    Args:\n",
      "        ltable (dataframe): left input table.\n",
      "    \n",
      "        rtable (dataframe): right input table.\n",
      "    \n",
      "        l_key_attr (string): key attribute in left table.\n",
      "    \n",
      "        r_key_attr (string): key attribute in right table.\n",
      "    \n",
      "        l_join_attr (string): join attribute in left table.\n",
      "    \n",
      "        r_join_attr (string): join attribute in right table.\n",
      "    \n",
      "        threshold (float): edit distance threshold to be satisfied.        \n",
      "                                                                                \n",
      "        comp_op (string): comparison operator. Supported values are '<=', '<'   \n",
      "            and '=' (defaults to '<=').                                         \n",
      "                                                                                \n",
      "        allow_missing (boolean): flag to indicate whether tuple pairs with      \n",
      "            missing value in at least one of the join attributes should be      \n",
      "            included in the output (defaults to False). If this flag is set to\n",
      "            True, a tuple in ltable with missing value in the join attribute \n",
      "            will be matched with every tuple in rtable and vice versa. \n",
      "                                                                                \n",
      "        l_out_attrs (list): list of attribute names from the left table to be   \n",
      "            included in the output table (defaults to None).                    \n",
      "                                                                                \n",
      "        r_out_attrs (list): list of attribute names from the right table to be  \n",
      "            included in the output table (defaults to None).                    \n",
      "                                                                                \n",
      "        l_out_prefix (string): prefix to be used for the attribute names coming \n",
      "            from the left table, in the output table (defaults to 'l\\_').       \n",
      "                                                                                \n",
      "        r_out_prefix (string): prefix to be used for the attribute names coming \n",
      "            from the right table, in the output table (defaults to 'r\\_').      \n",
      "                                                                                \n",
      "        out_sim_score (boolean): flag to indicate whether the edit distance \n",
      "            score should be included in the output table (defaults to True). \n",
      "            Setting this flag to True will add a column named '_sim_score' in \n",
      "            the output table. This column will contain the edit distance scores \n",
      "            for the tuple pairs in the output.                                          \n",
      "                                                                                \n",
      "        n_jobs (int): number of parallel jobs to use for the computation        \n",
      "            (defaults to 1). If -1 all CPUs are used. If 1 is given, no         \n",
      "            parallel computing code is used at all, which is useful for         \n",
      "            debugging. For n_jobs below -1, (n_cpus + 1 + n_jobs) are used. Thus\n",
      "            for n_jobs = -2, all CPUs but one are used. If (n_cpus + 1 + n_jobs)\n",
      "            becomes less than 1, then n_jobs is set to 1.                       \n",
      "                                                                                \n",
      "        show_progress (boolean): flag to indicate whether task progress should  \n",
      "            be displayed to the user (defaults to True).                        \n",
      "    \n",
      "        tokenizer (Tokenizer object): tokenizer to be used to tokenize the join \n",
      "            attributes during filtering, when edit distance measure is          \n",
      "            transformed into an overlap measure. This must be a q-gram tokenizer\n",
      "            (defaults to 2-gram tokenizer).\n",
      "                                                                                \n",
      "    Returns:                                                                    \n",
      "        An output table containing tuple pairs that satisfy the join            \n",
      "        condition (dataframe).\n",
      "\n"
     ]
    }
   ],
   "source": [
    "help(ssj.edit_distance_join)"
   ]
  },
  {
   "cell_type": "code",
   "execution_count": null,
   "metadata": {
    "collapsed": true
   },
   "outputs": [],
   "source": []
  }
 ],
 "metadata": {
  "kernelspec": {
   "display_name": "Python 2",
   "language": "python",
   "name": "python2"
  },
  "language_info": {
   "codemirror_mode": {
    "name": "ipython",
    "version": 2
   },
   "file_extension": ".py",
   "mimetype": "text/x-python",
   "name": "python",
   "nbconvert_exporter": "python",
   "pygments_lexer": "ipython2",
   "version": "2.7.10"
  }
 },
 "nbformat": 4,
 "nbformat_minor": 0
}
